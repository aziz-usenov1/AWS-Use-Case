{
 "cells": [
  {
   "cell_type": "code",
   "execution_count": 8,
   "metadata": {},
   "outputs": [
    {
     "name": "stdout",
     "output_type": "stream",
     "text": [
      "📚 Setting up the environment...\n",
      "✅ Libraries imported successfully\n"
     ]
    }
   ],
   "source": [
    "print(\"📚 Setting up the environment...\")\n",
    "\n",
    "import requests\n",
    "from bs4 import BeautifulSoup\n",
    "import pandas as pd\n",
    "import re\n",
    "\n",
    "print(\"✅ Libraries imported successfully\")"
   ]
  },
  {
   "cell_type": "markdown",
   "metadata": {},
   "source": [
    "<hr>"
   ]
  },
  {
   "cell_type": "markdown",
   "metadata": {},
   "source": [
    "### First Article from TechCrunch"
   ]
  },
  {
   "cell_type": "code",
   "execution_count": 33,
   "metadata": {},
   "outputs": [
    {
     "name": "stdout",
     "output_type": "stream",
     "text": [
      "🌐 Attempting to access webpage without headers...\n",
      "📡 Response status code: 200\n"
     ]
    }
   ],
   "source": [
    "print(\"🌐 Attempting to access webpage without headers...\")\n",
    "\n",
    "url = \"https://techcrunch.com/2024/12/15/apple-reportedly-developing-foldable-iphone-and-ipad/\"\n",
    "\n",
    "try:\n",
    "    response = requests.get(url)\n",
    "    print(f\"📡 Response status code: {response.status_code}\")\n",
    "\n",
    "    if response.status_code == 403:\n",
    "        print(\"❌ Access forbidden! This demonstrates why we need proper headers.\")\n",
    "        print(\"ℹ️  Websites often block requests without proper User-Agent headers\")\n",
    "        print(\"   to prevent automated scraping.\")\n",
    "except Exception as e:\n",
    "    print(f\"❌ Error: {str(e)}\")"
   ]
  },
  {
   "cell_type": "code",
   "execution_count": 34,
   "metadata": {},
   "outputs": [
    {
     "name": "stdout",
     "output_type": "stream",
     "text": [
      "🔍 Parsing webpage content...\n",
      "\n",
      "📑 Page Title:\n",
      "----------------------------------------\n",
      "Apple reportedly developing foldable iPhone and iPad | TechCrunch\n",
      "----------------------------------------\n",
      "\n",
      "📝 Article Content:\n",
      "----------------------------------------\n",
      "The next big upgrade to Apple’s mobile devices could be foldability, according to multiple reports published Sunday. According to The Wall Street Journal, Apple is aiming to launch two foldable devices in the next few years. There’s a larger model with a 19-inch screen that could compete with desktop monitors, as well as a smaller model that would serve as a foldable iPhone, with a larger screen than the iPhone 16 Pro Max. The Journal reports that Apple has been developing both devices for years, with the foldable iPhone likely to be ready first. The company is reportedly planning a 2026 launch, but that could be pushed back by a year. Bloomberg, meanwhile, describes the larger device as a giant iPad and said it has been the primary focus of Apple’s foldable development, although the company has also been “exploring” a foldable iPhone. Apparently the team is making significant progress toward its goal of creating a screen without the crease that’s visible on existing foldable screens when they’re open.\n",
      "----------------------------------------\n",
      "\n",
      "✅ Content extracted successfully\n"
     ]
    }
   ],
   "source": [
    "print(\"🔍 Parsing webpage content...\")\n",
    "\n",
    "try:\n",
    "    # Parse the HTML\n",
    "    webpage = BeautifulSoup(response.content, \"html.parser\")\n",
    "\n",
    "    # Extract title\n",
    "    title = webpage.title.string.strip()\n",
    "    print(\"\\n📑 Page Title:\")\n",
    "    print(\"-\" * 40)\n",
    "    print(title)\n",
    "    print(\"-\" * 40)\n",
    "\n",
    "    # Extract paragraphs\n",
    "    print(\"\\n📝 Article Content:\")\n",
    "    print(\"-\" * 40)\n",
    "    description_html = webpage.select(\".wp-block-post-content-is-layout-constrained\")  # <----------------- !!! Our selector !!!\n",
    "    texts = [\n",
    "    re.sub(r'\\s+', ' ', text.get_text().strip())  # Collapse multiple spaces/newlines into one\n",
    "    for text in description_html\n",
    "    if text.get_text().strip()  # Ignore empty strings\n",
    "    ]\n",
    "    text = \"\\n\".join(texts)\n",
    "    print(text)\n",
    "    print(\"-\" * 40)\n",
    "\n",
    "    print(\"\\n✅ Content extracted successfully\")\n",
    "except Exception as e:\n",
    "    print(f\"❌ Error parsing content: {str(e)}\")"
   ]
  },
  {
   "cell_type": "code",
   "execution_count": 35,
   "metadata": {},
   "outputs": [],
   "source": [
    "output_file_1 = \"news_1_crunch.txt\"\n",
    "with open(output_file_1, \"w\", encoding=\"utf-8\") as file:\n",
    "    file.write(text)"
   ]
  },
  {
   "cell_type": "markdown",
   "metadata": {},
   "source": [
    "<hr>"
   ]
  },
  {
   "cell_type": "markdown",
   "metadata": {},
   "source": [
    "### Second Article from TechCrunch"
   ]
  },
  {
   "cell_type": "code",
   "execution_count": 36,
   "metadata": {},
   "outputs": [
    {
     "name": "stdout",
     "output_type": "stream",
     "text": [
      "🌐 Attempting to access webpage without headers...\n",
      "📡 Response status code: 200\n"
     ]
    }
   ],
   "source": [
    "print(\"🌐 Attempting to access webpage without headers...\")\n",
    "\n",
    "url = \"https://techcrunch.com/2024/12/12/united-and-air-canada-can-now-use-apple-airtags-to-track-lost-luggage/\"\n",
    "\n",
    "try:\n",
    "    response = requests.get(url)\n",
    "    print(f\"📡 Response status code: {response.status_code}\")\n",
    "\n",
    "    if response.status_code == 403:\n",
    "        print(\"❌ Access forbidden! This demonstrates why we need proper headers.\")\n",
    "        print(\"ℹ️  Websites often block requests without proper User-Agent headers\")\n",
    "        print(\"   to prevent automated scraping.\")\n",
    "except Exception as e:\n",
    "    print(f\"❌ Error: {str(e)}\")"
   ]
  },
  {
   "cell_type": "code",
   "execution_count": 37,
   "metadata": {},
   "outputs": [
    {
     "name": "stdout",
     "output_type": "stream",
     "text": [
      "🔍 Parsing webpage content...\n",
      "\n",
      "📑 Page Title:\n",
      "----------------------------------------\n",
      "United and Air Canada can now use Apple AirTags to track lost luggage | TechCrunch\n",
      "----------------------------------------\n",
      "\n",
      "📝 Article Content:\n",
      "----------------------------------------\n",
      "Arriving in time for holiday travel and potentially lost luggage, a new feature that allows Apple AirTag owners to share the location of a lost item is now integrated with the customer service systems of two major airlines. United and Air Canada are the first launch partners for Apple’s “Find My Share Item Location” feature, which allows someone who travels with either an AirTag or other Find My network-connected accessory to use Apple’s Find My app to share the location of their lost item with the airline’s customer service system to speed up the process of locating lost or delayed luggage.\n",
      "The feature, now available with Apple’s iOS 18.2 operating system for iPhone, iPadOS 18.2 for iPad, and macOS 15.2 on Mac, lets customers generate a Share Item Location link from within the Find My app. The customer can then share that link with the customer service personnel tasked with helping locate the missing bags.\n",
      "The addition capitalizes on one of AirTags’ more popular use cases. Consumers were already using the small tracking devices to see where their luggage was when traveling. In one recent case, the AirTag showed that a lost bag was inside the airport, but United told the customer it was not — even saying to them that their system didn’t go by AirTags. The customer’s luggage ended up then traveling 30 miles away, leading the customer to believe the employee stole the bag. Now, those types of incidents should be less common, as United will, in fact, officially use AirTag locations as part of its customer service efforts.\n",
      "Apple says the links generated are secure and private, and the location-sharing aspect will automatically end when the customer is reunited with their lost bag. Location-sharing can also be stopped by the customer at any time. In addition, the link will expire after seven days, giving the airline plenty of time to locate and return the luggage. The process is also end-to-end encrypted so no one else, including accessory manufacturers, will have access to the device’s location or other personal information.\n",
      "Many airlines already offer systems for tracking luggage in their apps, making AirTags more of a supplement to their existing systems. The AirTag location, however, could be used when the airline’s luggage tracking system has it wrong.\n",
      "While United and Air Canada are the first to support the feature, Apple says other airline partners are on the way.\n",
      "Previously, the iPhone maker said it had nearly 20 airlines queued up to integrate with its system, including Aer Lingus, Air New Zealand, Austrian Airlines, British Airways, Brussels Airlines, Delta Air Lines, Eurowings, Iberia, KLM Royal Dutch Airlines, Lufthansa, Qantas, Singapore Airlines, Swiss International Air Lines, Turkish Airlines, Virgin Atlantic, and Vueling.\n",
      "----------------------------------------\n",
      "\n",
      "✅ Content extracted successfully\n"
     ]
    }
   ],
   "source": [
    "print(\"🔍 Parsing webpage content...\")\n",
    "\n",
    "try:\n",
    "    # Parse the HTML\n",
    "    webpage = BeautifulSoup(response.content, \"html.parser\")\n",
    "\n",
    "    # Extract title\n",
    "    title = webpage.title.string.strip()\n",
    "    print(\"\\n📑 Page Title:\")\n",
    "    print(\"-\" * 40)\n",
    "    print(title)\n",
    "    print(\"-\" * 40)\n",
    "\n",
    "    # Extract paragraphs\n",
    "    print(\"\\n📝 Article Content:\")\n",
    "    print(\"-\" * 40)\n",
    "    description_html = webpage.select(\".wp-block-paragraph+ .wp-block-paragraph , .size-large+ .wp-block-paragraph , .wp-block-tc-ads-ad-slot+ .wp-block-paragraph , #speakable-summary\")  # <----------------- !!! Our selector !!!\n",
    "    texts = [\n",
    "    re.sub(r'\\s+', ' ', text.get_text().strip())  # Collapse multiple spaces/newlines into one\n",
    "    for text in description_html\n",
    "    if text.get_text().strip()  # Ignore empty strings\n",
    "    ]\n",
    "    text = \"\\n\".join(texts)\n",
    "    print(text)\n",
    "    print(\"-\" * 40)\n",
    "\n",
    "    print(\"\\n✅ Content extracted successfully\")\n",
    "except Exception as e:\n",
    "    print(f\"❌ Error parsing content: {str(e)}\")"
   ]
  },
  {
   "cell_type": "code",
   "execution_count": 39,
   "metadata": {},
   "outputs": [],
   "source": [
    "output_file_2 = \"news_2_crunch.txt\"\n",
    "with open(output_file_2, \"w\", encoding=\"utf-8\") as file:\n",
    "    file.write(text)"
   ]
  },
  {
   "cell_type": "markdown",
   "metadata": {},
   "source": [
    "<hr>"
   ]
  },
  {
   "cell_type": "markdown",
   "metadata": {},
   "source": [
    "### First Article from TechRadar"
   ]
  },
  {
   "cell_type": "code",
   "execution_count": 26,
   "metadata": {},
   "outputs": [
    {
     "name": "stdout",
     "output_type": "stream",
     "text": [
      "🌐 Attempting to access webpage without headers...\n",
      "📡 Response status code: 200\n"
     ]
    }
   ],
   "source": [
    "print(\"🌐 Attempting to access webpage without headers...\")\n",
    "\n",
    "url = \"https://global.techradar.com/de-de/computing/computing-components/apples-a17-pro-scheint-auf-augenhohe-mit-der-konkurrenz-von-intel-und-amd-gute-nachrichten-fur-den-apple-m3\"\n",
    "\n",
    "try:\n",
    "    response = requests.get(url)\n",
    "    print(f\"📡 Response status code: {response.status_code}\")\n",
    "\n",
    "    if response.status_code == 403:\n",
    "        print(\"❌ Access forbidden! This demonstrates why we need proper headers.\")\n",
    "        print(\"ℹ️  Websites often block requests without proper User-Agent headers\")\n",
    "        print(\"   to prevent automated scraping.\")\n",
    "except Exception as e:\n",
    "    print(f\"❌ Error: {str(e)}\")"
   ]
  },
  {
   "cell_type": "code",
   "execution_count": 27,
   "metadata": {},
   "outputs": [
    {
     "name": "stdout",
     "output_type": "stream",
     "text": [
      "🔍 Parsing webpage content...\n",
      "\n",
      "📑 Page Title:\n",
      "----------------------------------------\n",
      "Apples A17 Pro scheint auf Augenhöhe mit der Konkurrenz von Intel und AMD – gute Nachrichten für den Apple M3? | TechRadar\n",
      "----------------------------------------\n",
      "\n",
      "📝 Article Content:\n",
      "----------------------------------------\n",
      "Die jüngst durchgesickerten Benchmark-Ergebnisse zum Apple A17 Pro System-on-Chip (SoC) für einige der brandaktuellen Apple-Smartphones offenbaren, dass selbiger im Geekbench 6 locker mit der Konkurrenz von AMD und Intel mithalten kann.\n",
      "Was heißt das in Ergebnissen? Der A17 Pro schaffte es im Single-Core-Test auf Punktzahlen, die im 10-Prozent-Rahmen eines AMD Ryzen 9 7950X oder aber Intel Core i9-13900K lagen. Konkret waren es demnach 2.914 Punkte im Single-Core-Test für den A17 Pro, während der i9-13900K von Intel auf 3.223 Punkte kam und der Ryzen-Prozessor starke 3.172 bereithält. Beachten sollte man hierbei auch, dass Apples A17 Pro \"lediglich\" mit 3,75 GHz arbeitet, während die Konkurrenten auf bis zu 6 GHz zurückgriffen.\n",
      "Tom's Hardware stellt hier direkt klar, dass dies höchst beeindruckende Ergebnisse für den Single-Core-Test sind und sich der A17 Pro mit seinen knapp 2.900 Punkten keinesfalls hinter den Desktop-CPUs der Konkurrenten verstecken braucht. Klar, es ist ein spezieller Benchmark-Test und nicht alle Ergebnisse könnten derart rosig ausfallen. Für den Anfang ist das doch aber trotzdem schon einmal ein solider Einstieg gewesen!\n",
      "Solide ist auch die Tatsache, dass der A17 Pro hiermit im Single-Core noch einmal 10 Prozent besser performen konnte als noch sein Vorgänger, der A16 Bionic. Im Multi-Core sind es bisher allerdings nur 7.200 Punkte gewesen – gerade einmal 3 Prozent mehr als beim A16. In jedem Fall scheint damit aber bestätigt: Der A17 Pro ist tatsächlich der beste mobile CPU, den Apple jemals in ein Smartphone verbaut hat!\n",
      "Das beeindruckende Resultat des Apple A17 Pro SoC im Single-Core-Test von Geekbench 6 ist äußerst vielversprechend. Obwohl es sich um einen speziellen Test handelt, ist es unglaublich, dass ein Smartphone-Prozessor in jeder Hinsicht mit Desktop-Prozessoren mithalten kann, und es unterstreicht die Effizienz von Apple Silicon.\n",
      "In der Vergangenheit wurde selbige ja aber nicht nur durch Smartphone-Prozessoren, sondern eben auch die grandiosen Apple M1- wie auch M2-Chips demonstriert, welche weitaus stärker waren als die zuvor genutzte Intel-Alternative. Und jetzt, wo der M3-Chip womöglich noch 2023 erhältlich sein könnte, haben wir doch glatt noch mehr Grund zur Freude!\n",
      "Wenn ein einfacher Smartphone-Chip schließlich schon solche grandiosen Leistungen hervorzaubern kann, will man sich kaum vorstellen, wozu der M3 womöglich in der Lage sein dürfte. Verbesserte Technologie, ernsthafte architektonische Änderungen, Fokus auf Professionals und aufwendigere Gaming-Anwendungen und Co. lassen jedenfalls auf nicht weniger als das beste Ergebnis aus Cupertino hoffen!\n",
      "----------------------------------------\n",
      "\n",
      "✅ Content extracted successfully\n"
     ]
    }
   ],
   "source": [
    "print(\"🔍 Parsing webpage content...\")\n",
    "\n",
    "try:\n",
    "    # Parse the HTML\n",
    "    webpage = BeautifulSoup(response.content, \"html.parser\")\n",
    "\n",
    "    # Extract title\n",
    "    title = webpage.title.string.strip()\n",
    "    print(\"\\n📑 Page Title:\")\n",
    "    print(\"-\" * 40)\n",
    "    print(title)\n",
    "    print(\"-\" * 40)\n",
    "\n",
    "    # Extract paragraphs\n",
    "    print(\"\\n📝 Article Content:\")\n",
    "    print(\"-\" * 40)\n",
    "    description_html = webpage.select(\"div~ div+ div > p\")  # <----------------- !!! Our selector !!!\n",
    "    texts = [\n",
    "    re.sub(r'\\s+', ' ', text.get_text().strip())  # Collapse multiple spaces/newlines into one\n",
    "    for text in description_html\n",
    "    if text.get_text().strip()  # Ignore empty strings\n",
    "    ]\n",
    "    text = \"\\n\".join(texts)\n",
    "    print(text)\n",
    "    print(\"-\" * 40)\n",
    "\n",
    "    print(\"\\n✅ Content extracted successfully\")\n",
    "except Exception as e:\n",
    "    print(f\"❌ Error parsing content: {str(e)}\")"
   ]
  },
  {
   "cell_type": "code",
   "execution_count": 29,
   "metadata": {},
   "outputs": [],
   "source": [
    "output_file_3 = \"news_3_radar.txt\"\n",
    "with open(output_file_3, \"w\", encoding=\"utf-8\") as file:\n",
    "    file.write(text)"
   ]
  },
  {
   "cell_type": "markdown",
   "metadata": {},
   "source": [
    "<hr>"
   ]
  },
  {
   "cell_type": "markdown",
   "metadata": {},
   "source": [
    "### Second Article from TechRadar"
   ]
  },
  {
   "cell_type": "code",
   "execution_count": 30,
   "metadata": {},
   "outputs": [
    {
     "name": "stdout",
     "output_type": "stream",
     "text": [
      "🌐 Attempting to access webpage without headers...\n",
      "📡 Response status code: 200\n"
     ]
    }
   ],
   "source": [
    "print(\"🌐 Attempting to access webpage without headers...\")\n",
    "\n",
    "url = \"https://global.techradar.com/de-de/news/apple-will-das-ursprungliche-12-zoll-macbook-abschaffen\"\n",
    "\n",
    "try:\n",
    "    response = requests.get(url)\n",
    "    print(f\"📡 Response status code: {response.status_code}\")\n",
    "\n",
    "    if response.status_code == 403:\n",
    "        print(\"❌ Access forbidden! This demonstrates why we need proper headers.\")\n",
    "        print(\"ℹ️  Websites often block requests without proper User-Agent headers\")\n",
    "        print(\"   to prevent automated scraping.\")\n",
    "except Exception as e:\n",
    "    print(f\"❌ Error: {str(e)}\")"
   ]
  },
  {
   "cell_type": "code",
   "execution_count": 31,
   "metadata": {},
   "outputs": [
    {
     "name": "stdout",
     "output_type": "stream",
     "text": [
      "🔍 Parsing webpage content...\n",
      "\n",
      "📑 Page Title:\n",
      "----------------------------------------\n",
      "Apple will das ursprüngliche 12-Zoll-MacBook abschaffen | TechRadar\n",
      "----------------------------------------\n",
      "\n",
      "📝 Article Content:\n",
      "----------------------------------------\n",
      "Es wird erwartet, dass Apple das ursprüngliche 12-Zoll-Macbook der ersten Generation Ende Juni zu seinem Stapel veralteter Produkte hinzufügt, wahrscheinlich in der Hoffnung, Platz für neuere Produkte und zukünftige Innovationen zu schaffen.\n",
      "Die Info wurde von MacRumors anhand eines internen Memos aufgedeckt und könnte für alle, die sich noch an eines dieser Nostalgiegeräte klammern, eine schlechte Nachricht bedeuten. Apple stuft ein Produkt normalerweise als \"technologisch veraltet\" ein, wenn sieben Jahre vergangen sind, seit das Unternehmen es nicht mehr verkauft.\n",
      "Auch wenn sieben Jahre seit der Markteinführung vergangen sind, wird das Produkt erst dann als veraltet eingestuft, wenn sieben Jahre vergangen sind, seit Apple den Vertrieb eingestellt hat. Aufgrund der relativ schnellen Veröffentlichungsfrequenz von Apple sind schon einige Produkte in die tiefe, dunkle Abfallgrube geworfen worden, darunter die iMacs von 2012-2014 und die Apple Watch Series 2.\n",
      "Sobald das 12-Zoll-Macbook als veraltet eingestuft wird, kann es nicht mehr in den Apple Stores und bei autorisierten Dienstleistern repariert oder technisch unterstützt werden, da keine Ersatzteile und Schulungen mehr verfügbar sind. Ursprünglich wurde es im April 2016 eingestellt, nachdem das Modell der zweiten Generation veröffentlicht worden war.\n",
      "Das 12-Zoll-Macbook wurde erstmals im März 2015 vorgestellt und war das erste lüfterlose Notebook von Apple. Es verfügte über einen einzigen USB-C-Anschluss zum Aufladen und für die Datenübertragung und war wohl eines der wichtigsten Produkte, die Apple auf dem Radar junger Menschen erscheinen ließen und das Unternehmen als Grundnahrungsmittel für die Generation Z und Millennials etablierte.\n",
      "Für das klassische 12-Zoll-Macbook heißt es nun \"Ruhe in Frieden\": Wir werden nie vergessen, wie groß der FOMO-Anteil war, den wir erlebten, als die kultigen roségoldenen Macbooks überall auf Tumblr und Pinterest zu sehen waren.\n",
      "----------------------------------------\n",
      "\n",
      "✅ Content extracted successfully\n"
     ]
    }
   ],
   "source": [
    "print(\"🔍 Parsing webpage content...\")\n",
    "\n",
    "try:\n",
    "    # Parse the HTML\n",
    "    webpage = BeautifulSoup(response.content, \"html.parser\")\n",
    "\n",
    "    # Extract title\n",
    "    title = webpage.title.string.strip()\n",
    "    print(\"\\n📑 Page Title:\")\n",
    "    print(\"-\" * 40)\n",
    "    print(title)\n",
    "    print(\"-\" * 40)\n",
    "\n",
    "    # Extract paragraphs\n",
    "    print(\"\\n📝 Article Content:\")\n",
    "    print(\"-\" * 40)\n",
    "    description_html = webpage.select(\"div~ div+ div > p\")  # <----------------- !!! Our selector !!!\n",
    "    texts = [\n",
    "    re.sub(r'\\s+', ' ', text.get_text().strip())  # Collapse multiple spaces/newlines into one\n",
    "    for text in description_html\n",
    "    if text.get_text().strip()  # Ignore empty strings\n",
    "    ]\n",
    "    text = \"\\n\".join(texts)\n",
    "    print(text)\n",
    "    print(\"-\" * 40)\n",
    "\n",
    "    print(\"\\n✅ Content extracted successfully\")\n",
    "except Exception as e:\n",
    "    print(f\"❌ Error parsing content: {str(e)}\")"
   ]
  },
  {
   "cell_type": "code",
   "execution_count": 32,
   "metadata": {},
   "outputs": [],
   "source": [
    "output_file_4 = \"news_4_radar.txt\"\n",
    "with open(output_file_4, \"w\", encoding=\"utf-8\") as file:\n",
    "    file.write(text)"
   ]
  },
  {
   "cell_type": "markdown",
   "metadata": {},
   "source": [
    "<hr>"
   ]
  },
  {
   "cell_type": "code",
   "execution_count": 40,
   "metadata": {},
   "outputs": [
    {
     "data": {
      "application/vnd.plotly.v1+json": {
       "config": {
        "plotlyServerURL": "https://plot.ly"
       },
       "data": [
        {
         "hoverinfo": "text",
         "hovertext": [
          "Positive: 12<br>Negative: 25<br>Neutral: 60",
          "Positive: 20<br>Negative: 15<br>Neutral: 65",
          "Positive: 15<br>Negative: 30<br>Neutral: 55",
          "Positive: 18<br>Negative: 10<br>Neutral: 72"
         ],
         "marker": {
          "color": "green",
          "size": 12
         },
         "mode": "markers+text",
         "text": [
          "Positive",
          "Positive",
          "Positive",
          "Positive"
         ],
         "type": "scatter",
         "x": [
          "Text 1",
          "Text 2",
          "Text 3",
          "Text 4"
         ],
         "y": [
          12,
          20,
          15,
          18
         ]
        }
       ],
       "layout": {
        "hovermode": "closest",
        "template": {
         "data": {
          "bar": [
           {
            "error_x": {
             "color": "#2a3f5f"
            },
            "error_y": {
             "color": "#2a3f5f"
            },
            "marker": {
             "line": {
              "color": "#E5ECF6",
              "width": 0.5
             },
             "pattern": {
              "fillmode": "overlay",
              "size": 10,
              "solidity": 0.2
             }
            },
            "type": "bar"
           }
          ],
          "barpolar": [
           {
            "marker": {
             "line": {
              "color": "#E5ECF6",
              "width": 0.5
             },
             "pattern": {
              "fillmode": "overlay",
              "size": 10,
              "solidity": 0.2
             }
            },
            "type": "barpolar"
           }
          ],
          "carpet": [
           {
            "aaxis": {
             "endlinecolor": "#2a3f5f",
             "gridcolor": "white",
             "linecolor": "white",
             "minorgridcolor": "white",
             "startlinecolor": "#2a3f5f"
            },
            "baxis": {
             "endlinecolor": "#2a3f5f",
             "gridcolor": "white",
             "linecolor": "white",
             "minorgridcolor": "white",
             "startlinecolor": "#2a3f5f"
            },
            "type": "carpet"
           }
          ],
          "choropleth": [
           {
            "colorbar": {
             "outlinewidth": 0,
             "ticks": ""
            },
            "type": "choropleth"
           }
          ],
          "contour": [
           {
            "colorbar": {
             "outlinewidth": 0,
             "ticks": ""
            },
            "colorscale": [
             [
              0,
              "#0d0887"
             ],
             [
              0.1111111111111111,
              "#46039f"
             ],
             [
              0.2222222222222222,
              "#7201a8"
             ],
             [
              0.3333333333333333,
              "#9c179e"
             ],
             [
              0.4444444444444444,
              "#bd3786"
             ],
             [
              0.5555555555555556,
              "#d8576b"
             ],
             [
              0.6666666666666666,
              "#ed7953"
             ],
             [
              0.7777777777777778,
              "#fb9f3a"
             ],
             [
              0.8888888888888888,
              "#fdca26"
             ],
             [
              1,
              "#f0f921"
             ]
            ],
            "type": "contour"
           }
          ],
          "contourcarpet": [
           {
            "colorbar": {
             "outlinewidth": 0,
             "ticks": ""
            },
            "type": "contourcarpet"
           }
          ],
          "heatmap": [
           {
            "colorbar": {
             "outlinewidth": 0,
             "ticks": ""
            },
            "colorscale": [
             [
              0,
              "#0d0887"
             ],
             [
              0.1111111111111111,
              "#46039f"
             ],
             [
              0.2222222222222222,
              "#7201a8"
             ],
             [
              0.3333333333333333,
              "#9c179e"
             ],
             [
              0.4444444444444444,
              "#bd3786"
             ],
             [
              0.5555555555555556,
              "#d8576b"
             ],
             [
              0.6666666666666666,
              "#ed7953"
             ],
             [
              0.7777777777777778,
              "#fb9f3a"
             ],
             [
              0.8888888888888888,
              "#fdca26"
             ],
             [
              1,
              "#f0f921"
             ]
            ],
            "type": "heatmap"
           }
          ],
          "heatmapgl": [
           {
            "colorbar": {
             "outlinewidth": 0,
             "ticks": ""
            },
            "colorscale": [
             [
              0,
              "#0d0887"
             ],
             [
              0.1111111111111111,
              "#46039f"
             ],
             [
              0.2222222222222222,
              "#7201a8"
             ],
             [
              0.3333333333333333,
              "#9c179e"
             ],
             [
              0.4444444444444444,
              "#bd3786"
             ],
             [
              0.5555555555555556,
              "#d8576b"
             ],
             [
              0.6666666666666666,
              "#ed7953"
             ],
             [
              0.7777777777777778,
              "#fb9f3a"
             ],
             [
              0.8888888888888888,
              "#fdca26"
             ],
             [
              1,
              "#f0f921"
             ]
            ],
            "type": "heatmapgl"
           }
          ],
          "histogram": [
           {
            "marker": {
             "pattern": {
              "fillmode": "overlay",
              "size": 10,
              "solidity": 0.2
             }
            },
            "type": "histogram"
           }
          ],
          "histogram2d": [
           {
            "colorbar": {
             "outlinewidth": 0,
             "ticks": ""
            },
            "colorscale": [
             [
              0,
              "#0d0887"
             ],
             [
              0.1111111111111111,
              "#46039f"
             ],
             [
              0.2222222222222222,
              "#7201a8"
             ],
             [
              0.3333333333333333,
              "#9c179e"
             ],
             [
              0.4444444444444444,
              "#bd3786"
             ],
             [
              0.5555555555555556,
              "#d8576b"
             ],
             [
              0.6666666666666666,
              "#ed7953"
             ],
             [
              0.7777777777777778,
              "#fb9f3a"
             ],
             [
              0.8888888888888888,
              "#fdca26"
             ],
             [
              1,
              "#f0f921"
             ]
            ],
            "type": "histogram2d"
           }
          ],
          "histogram2dcontour": [
           {
            "colorbar": {
             "outlinewidth": 0,
             "ticks": ""
            },
            "colorscale": [
             [
              0,
              "#0d0887"
             ],
             [
              0.1111111111111111,
              "#46039f"
             ],
             [
              0.2222222222222222,
              "#7201a8"
             ],
             [
              0.3333333333333333,
              "#9c179e"
             ],
             [
              0.4444444444444444,
              "#bd3786"
             ],
             [
              0.5555555555555556,
              "#d8576b"
             ],
             [
              0.6666666666666666,
              "#ed7953"
             ],
             [
              0.7777777777777778,
              "#fb9f3a"
             ],
             [
              0.8888888888888888,
              "#fdca26"
             ],
             [
              1,
              "#f0f921"
             ]
            ],
            "type": "histogram2dcontour"
           }
          ],
          "mesh3d": [
           {
            "colorbar": {
             "outlinewidth": 0,
             "ticks": ""
            },
            "type": "mesh3d"
           }
          ],
          "parcoords": [
           {
            "line": {
             "colorbar": {
              "outlinewidth": 0,
              "ticks": ""
             }
            },
            "type": "parcoords"
           }
          ],
          "pie": [
           {
            "automargin": true,
            "type": "pie"
           }
          ],
          "scatter": [
           {
            "fillpattern": {
             "fillmode": "overlay",
             "size": 10,
             "solidity": 0.2
            },
            "type": "scatter"
           }
          ],
          "scatter3d": [
           {
            "line": {
             "colorbar": {
              "outlinewidth": 0,
              "ticks": ""
             }
            },
            "marker": {
             "colorbar": {
              "outlinewidth": 0,
              "ticks": ""
             }
            },
            "type": "scatter3d"
           }
          ],
          "scattercarpet": [
           {
            "marker": {
             "colorbar": {
              "outlinewidth": 0,
              "ticks": ""
             }
            },
            "type": "scattercarpet"
           }
          ],
          "scattergeo": [
           {
            "marker": {
             "colorbar": {
              "outlinewidth": 0,
              "ticks": ""
             }
            },
            "type": "scattergeo"
           }
          ],
          "scattergl": [
           {
            "marker": {
             "colorbar": {
              "outlinewidth": 0,
              "ticks": ""
             }
            },
            "type": "scattergl"
           }
          ],
          "scattermapbox": [
           {
            "marker": {
             "colorbar": {
              "outlinewidth": 0,
              "ticks": ""
             }
            },
            "type": "scattermapbox"
           }
          ],
          "scatterpolar": [
           {
            "marker": {
             "colorbar": {
              "outlinewidth": 0,
              "ticks": ""
             }
            },
            "type": "scatterpolar"
           }
          ],
          "scatterpolargl": [
           {
            "marker": {
             "colorbar": {
              "outlinewidth": 0,
              "ticks": ""
             }
            },
            "type": "scatterpolargl"
           }
          ],
          "scatterternary": [
           {
            "marker": {
             "colorbar": {
              "outlinewidth": 0,
              "ticks": ""
             }
            },
            "type": "scatterternary"
           }
          ],
          "surface": [
           {
            "colorbar": {
             "outlinewidth": 0,
             "ticks": ""
            },
            "colorscale": [
             [
              0,
              "#0d0887"
             ],
             [
              0.1111111111111111,
              "#46039f"
             ],
             [
              0.2222222222222222,
              "#7201a8"
             ],
             [
              0.3333333333333333,
              "#9c179e"
             ],
             [
              0.4444444444444444,
              "#bd3786"
             ],
             [
              0.5555555555555556,
              "#d8576b"
             ],
             [
              0.6666666666666666,
              "#ed7953"
             ],
             [
              0.7777777777777778,
              "#fb9f3a"
             ],
             [
              0.8888888888888888,
              "#fdca26"
             ],
             [
              1,
              "#f0f921"
             ]
            ],
            "type": "surface"
           }
          ],
          "table": [
           {
            "cells": {
             "fill": {
              "color": "#EBF0F8"
             },
             "line": {
              "color": "white"
             }
            },
            "header": {
             "fill": {
              "color": "#C8D4E3"
             },
             "line": {
              "color": "white"
             }
            },
            "type": "table"
           }
          ]
         },
         "layout": {
          "annotationdefaults": {
           "arrowcolor": "#2a3f5f",
           "arrowhead": 0,
           "arrowwidth": 1
          },
          "autotypenumbers": "strict",
          "coloraxis": {
           "colorbar": {
            "outlinewidth": 0,
            "ticks": ""
           }
          },
          "colorscale": {
           "diverging": [
            [
             0,
             "#8e0152"
            ],
            [
             0.1,
             "#c51b7d"
            ],
            [
             0.2,
             "#de77ae"
            ],
            [
             0.3,
             "#f1b6da"
            ],
            [
             0.4,
             "#fde0ef"
            ],
            [
             0.5,
             "#f7f7f7"
            ],
            [
             0.6,
             "#e6f5d0"
            ],
            [
             0.7,
             "#b8e186"
            ],
            [
             0.8,
             "#7fbc41"
            ],
            [
             0.9,
             "#4d9221"
            ],
            [
             1,
             "#276419"
            ]
           ],
           "sequential": [
            [
             0,
             "#0d0887"
            ],
            [
             0.1111111111111111,
             "#46039f"
            ],
            [
             0.2222222222222222,
             "#7201a8"
            ],
            [
             0.3333333333333333,
             "#9c179e"
            ],
            [
             0.4444444444444444,
             "#bd3786"
            ],
            [
             0.5555555555555556,
             "#d8576b"
            ],
            [
             0.6666666666666666,
             "#ed7953"
            ],
            [
             0.7777777777777778,
             "#fb9f3a"
            ],
            [
             0.8888888888888888,
             "#fdca26"
            ],
            [
             1,
             "#f0f921"
            ]
           ],
           "sequentialminus": [
            [
             0,
             "#0d0887"
            ],
            [
             0.1111111111111111,
             "#46039f"
            ],
            [
             0.2222222222222222,
             "#7201a8"
            ],
            [
             0.3333333333333333,
             "#9c179e"
            ],
            [
             0.4444444444444444,
             "#bd3786"
            ],
            [
             0.5555555555555556,
             "#d8576b"
            ],
            [
             0.6666666666666666,
             "#ed7953"
            ],
            [
             0.7777777777777778,
             "#fb9f3a"
            ],
            [
             0.8888888888888888,
             "#fdca26"
            ],
            [
             1,
             "#f0f921"
            ]
           ]
          },
          "colorway": [
           "#636efa",
           "#EF553B",
           "#00cc96",
           "#ab63fa",
           "#FFA15A",
           "#19d3f3",
           "#FF6692",
           "#B6E880",
           "#FF97FF",
           "#FECB52"
          ],
          "font": {
           "color": "#2a3f5f"
          },
          "geo": {
           "bgcolor": "white",
           "lakecolor": "white",
           "landcolor": "#E5ECF6",
           "showlakes": true,
           "showland": true,
           "subunitcolor": "white"
          },
          "hoverlabel": {
           "align": "left"
          },
          "hovermode": "closest",
          "mapbox": {
           "style": "light"
          },
          "paper_bgcolor": "white",
          "plot_bgcolor": "#E5ECF6",
          "polar": {
           "angularaxis": {
            "gridcolor": "white",
            "linecolor": "white",
            "ticks": ""
           },
           "bgcolor": "#E5ECF6",
           "radialaxis": {
            "gridcolor": "white",
            "linecolor": "white",
            "ticks": ""
           }
          },
          "scene": {
           "xaxis": {
            "backgroundcolor": "#E5ECF6",
            "gridcolor": "white",
            "gridwidth": 2,
            "linecolor": "white",
            "showbackground": true,
            "ticks": "",
            "zerolinecolor": "white"
           },
           "yaxis": {
            "backgroundcolor": "#E5ECF6",
            "gridcolor": "white",
            "gridwidth": 2,
            "linecolor": "white",
            "showbackground": true,
            "ticks": "",
            "zerolinecolor": "white"
           },
           "zaxis": {
            "backgroundcolor": "#E5ECF6",
            "gridcolor": "white",
            "gridwidth": 2,
            "linecolor": "white",
            "showbackground": true,
            "ticks": "",
            "zerolinecolor": "white"
           }
          },
          "shapedefaults": {
           "line": {
            "color": "#2a3f5f"
           }
          },
          "ternary": {
           "aaxis": {
            "gridcolor": "white",
            "linecolor": "white",
            "ticks": ""
           },
           "baxis": {
            "gridcolor": "white",
            "linecolor": "white",
            "ticks": ""
           },
           "bgcolor": "#E5ECF6",
           "caxis": {
            "gridcolor": "white",
            "linecolor": "white",
            "ticks": ""
           }
          },
          "title": {
           "x": 0.05
          },
          "xaxis": {
           "automargin": true,
           "gridcolor": "white",
           "linecolor": "white",
           "ticks": "",
           "title": {
            "standoff": 15
           },
           "zerolinecolor": "white",
           "zerolinewidth": 2
          },
          "yaxis": {
           "automargin": true,
           "gridcolor": "white",
           "linecolor": "white",
           "ticks": "",
           "title": {
            "standoff": 15
           },
           "zerolinecolor": "white",
           "zerolinewidth": 2
          }
         }
        },
        "title": {
         "text": "Sentiment Analysis Scores"
        },
        "xaxis": {
         "title": {
          "text": "Texts"
         }
        },
        "yaxis": {
         "title": {
          "text": "Score"
         }
        }
       }
      }
     },
     "metadata": {},
     "output_type": "display_data"
    }
   ],
   "source": [
    "import plotly.graph_objects as go\n",
    "\n",
    "# Sample data: Replace these with your own sentiment analysis scores\n",
    "texts = [\"Text 1\", \"Text 2\", \"Text 3\", \"Text 4\"]\n",
    "positive_scores = [12, 20, 15, 18]\n",
    "negative_scores = [25, 15, 30, 10]\n",
    "neutral_scores = [60, 65, 55, 72]\n",
    "\n",
    "# Tooltips: Create hover text for each data point\n",
    "hover_texts = [\n",
    "    f\"Positive: {pos}<br>Negative: {neg}<br>Neutral: {neu}\"\n",
    "    for pos, neg, neu in zip(positive_scores, negative_scores, neutral_scores)\n",
    "]\n",
    "\n",
    "# Create the interactive scatter plot\n",
    "fig = go.Figure()\n",
    "\n",
    "fig.add_trace(\n",
    "    go.Scatter(\n",
    "        x=texts,  # Text labels on x-axis\n",
    "        y=positive_scores,  # Use positive scores as y-values\n",
    "        mode=\"markers+text\",  # Marker points with text\n",
    "        marker=dict(size=12, color=\"green\"),  # Custom marker style\n",
    "        text=[\"Positive\" for _ in texts],  # Marker label\n",
    "        hovertext=hover_texts,  # Display tooltips\n",
    "        hoverinfo=\"text\"  # Show hover text only\n",
    "    )\n",
    ")\n",
    "\n",
    "# Update layout to enhance visualization\n",
    "fig.update_layout(\n",
    "    title=\"Sentiment Analysis Scores\",\n",
    "    xaxis_title=\"Texts\",\n",
    "    yaxis_title=\"Score\",\n",
    "    hovermode=\"closest\",  # Closest point hover mode\n",
    "    template=\"plotly\"  # Styling template\n",
    ")\n",
    "\n",
    "# Show the plot\n",
    "fig.show()\n"
   ]
  },
  {
   "cell_type": "code",
   "execution_count": 41,
   "metadata": {},
   "outputs": [
    {
     "data": {
      "application/vnd.plotly.v1+json": {
       "config": {
        "plotlyServerURL": "https://plot.ly"
       },
       "data": [
        {
         "hoverinfo": "text",
         "hovertext": [
          "Positive: 12<br>Negative: 25<br>Neutral: 60",
          "Positive: 20<br>Negative: 15<br>Neutral: 65",
          "Positive: 15<br>Negative: 30<br>Neutral: 55",
          "Positive: 18<br>Negative: 10<br>Neutral: 72"
         ],
         "marker": {
          "color": "green",
          "line": {
           "color": "darkgreen",
           "width": 2
          },
          "opacity": 0.7,
          "size": [
           24,
           40,
           30,
           36
          ]
         },
         "mode": "markers+text",
         "text": [
          "Positive",
          "Positive",
          "Positive",
          "Positive"
         ],
         "type": "scatter",
         "x": [
          "Text 1",
          "Text 2",
          "Text 3",
          "Text 4"
         ],
         "y": [
          12,
          20,
          15,
          18
         ]
        }
       ],
       "layout": {
        "hovermode": "closest",
        "template": {
         "data": {
          "bar": [
           {
            "error_x": {
             "color": "#2a3f5f"
            },
            "error_y": {
             "color": "#2a3f5f"
            },
            "marker": {
             "line": {
              "color": "#E5ECF6",
              "width": 0.5
             },
             "pattern": {
              "fillmode": "overlay",
              "size": 10,
              "solidity": 0.2
             }
            },
            "type": "bar"
           }
          ],
          "barpolar": [
           {
            "marker": {
             "line": {
              "color": "#E5ECF6",
              "width": 0.5
             },
             "pattern": {
              "fillmode": "overlay",
              "size": 10,
              "solidity": 0.2
             }
            },
            "type": "barpolar"
           }
          ],
          "carpet": [
           {
            "aaxis": {
             "endlinecolor": "#2a3f5f",
             "gridcolor": "white",
             "linecolor": "white",
             "minorgridcolor": "white",
             "startlinecolor": "#2a3f5f"
            },
            "baxis": {
             "endlinecolor": "#2a3f5f",
             "gridcolor": "white",
             "linecolor": "white",
             "minorgridcolor": "white",
             "startlinecolor": "#2a3f5f"
            },
            "type": "carpet"
           }
          ],
          "choropleth": [
           {
            "colorbar": {
             "outlinewidth": 0,
             "ticks": ""
            },
            "type": "choropleth"
           }
          ],
          "contour": [
           {
            "colorbar": {
             "outlinewidth": 0,
             "ticks": ""
            },
            "colorscale": [
             [
              0,
              "#0d0887"
             ],
             [
              0.1111111111111111,
              "#46039f"
             ],
             [
              0.2222222222222222,
              "#7201a8"
             ],
             [
              0.3333333333333333,
              "#9c179e"
             ],
             [
              0.4444444444444444,
              "#bd3786"
             ],
             [
              0.5555555555555556,
              "#d8576b"
             ],
             [
              0.6666666666666666,
              "#ed7953"
             ],
             [
              0.7777777777777778,
              "#fb9f3a"
             ],
             [
              0.8888888888888888,
              "#fdca26"
             ],
             [
              1,
              "#f0f921"
             ]
            ],
            "type": "contour"
           }
          ],
          "contourcarpet": [
           {
            "colorbar": {
             "outlinewidth": 0,
             "ticks": ""
            },
            "type": "contourcarpet"
           }
          ],
          "heatmap": [
           {
            "colorbar": {
             "outlinewidth": 0,
             "ticks": ""
            },
            "colorscale": [
             [
              0,
              "#0d0887"
             ],
             [
              0.1111111111111111,
              "#46039f"
             ],
             [
              0.2222222222222222,
              "#7201a8"
             ],
             [
              0.3333333333333333,
              "#9c179e"
             ],
             [
              0.4444444444444444,
              "#bd3786"
             ],
             [
              0.5555555555555556,
              "#d8576b"
             ],
             [
              0.6666666666666666,
              "#ed7953"
             ],
             [
              0.7777777777777778,
              "#fb9f3a"
             ],
             [
              0.8888888888888888,
              "#fdca26"
             ],
             [
              1,
              "#f0f921"
             ]
            ],
            "type": "heatmap"
           }
          ],
          "heatmapgl": [
           {
            "colorbar": {
             "outlinewidth": 0,
             "ticks": ""
            },
            "colorscale": [
             [
              0,
              "#0d0887"
             ],
             [
              0.1111111111111111,
              "#46039f"
             ],
             [
              0.2222222222222222,
              "#7201a8"
             ],
             [
              0.3333333333333333,
              "#9c179e"
             ],
             [
              0.4444444444444444,
              "#bd3786"
             ],
             [
              0.5555555555555556,
              "#d8576b"
             ],
             [
              0.6666666666666666,
              "#ed7953"
             ],
             [
              0.7777777777777778,
              "#fb9f3a"
             ],
             [
              0.8888888888888888,
              "#fdca26"
             ],
             [
              1,
              "#f0f921"
             ]
            ],
            "type": "heatmapgl"
           }
          ],
          "histogram": [
           {
            "marker": {
             "pattern": {
              "fillmode": "overlay",
              "size": 10,
              "solidity": 0.2
             }
            },
            "type": "histogram"
           }
          ],
          "histogram2d": [
           {
            "colorbar": {
             "outlinewidth": 0,
             "ticks": ""
            },
            "colorscale": [
             [
              0,
              "#0d0887"
             ],
             [
              0.1111111111111111,
              "#46039f"
             ],
             [
              0.2222222222222222,
              "#7201a8"
             ],
             [
              0.3333333333333333,
              "#9c179e"
             ],
             [
              0.4444444444444444,
              "#bd3786"
             ],
             [
              0.5555555555555556,
              "#d8576b"
             ],
             [
              0.6666666666666666,
              "#ed7953"
             ],
             [
              0.7777777777777778,
              "#fb9f3a"
             ],
             [
              0.8888888888888888,
              "#fdca26"
             ],
             [
              1,
              "#f0f921"
             ]
            ],
            "type": "histogram2d"
           }
          ],
          "histogram2dcontour": [
           {
            "colorbar": {
             "outlinewidth": 0,
             "ticks": ""
            },
            "colorscale": [
             [
              0,
              "#0d0887"
             ],
             [
              0.1111111111111111,
              "#46039f"
             ],
             [
              0.2222222222222222,
              "#7201a8"
             ],
             [
              0.3333333333333333,
              "#9c179e"
             ],
             [
              0.4444444444444444,
              "#bd3786"
             ],
             [
              0.5555555555555556,
              "#d8576b"
             ],
             [
              0.6666666666666666,
              "#ed7953"
             ],
             [
              0.7777777777777778,
              "#fb9f3a"
             ],
             [
              0.8888888888888888,
              "#fdca26"
             ],
             [
              1,
              "#f0f921"
             ]
            ],
            "type": "histogram2dcontour"
           }
          ],
          "mesh3d": [
           {
            "colorbar": {
             "outlinewidth": 0,
             "ticks": ""
            },
            "type": "mesh3d"
           }
          ],
          "parcoords": [
           {
            "line": {
             "colorbar": {
              "outlinewidth": 0,
              "ticks": ""
             }
            },
            "type": "parcoords"
           }
          ],
          "pie": [
           {
            "automargin": true,
            "type": "pie"
           }
          ],
          "scatter": [
           {
            "fillpattern": {
             "fillmode": "overlay",
             "size": 10,
             "solidity": 0.2
            },
            "type": "scatter"
           }
          ],
          "scatter3d": [
           {
            "line": {
             "colorbar": {
              "outlinewidth": 0,
              "ticks": ""
             }
            },
            "marker": {
             "colorbar": {
              "outlinewidth": 0,
              "ticks": ""
             }
            },
            "type": "scatter3d"
           }
          ],
          "scattercarpet": [
           {
            "marker": {
             "colorbar": {
              "outlinewidth": 0,
              "ticks": ""
             }
            },
            "type": "scattercarpet"
           }
          ],
          "scattergeo": [
           {
            "marker": {
             "colorbar": {
              "outlinewidth": 0,
              "ticks": ""
             }
            },
            "type": "scattergeo"
           }
          ],
          "scattergl": [
           {
            "marker": {
             "colorbar": {
              "outlinewidth": 0,
              "ticks": ""
             }
            },
            "type": "scattergl"
           }
          ],
          "scattermapbox": [
           {
            "marker": {
             "colorbar": {
              "outlinewidth": 0,
              "ticks": ""
             }
            },
            "type": "scattermapbox"
           }
          ],
          "scatterpolar": [
           {
            "marker": {
             "colorbar": {
              "outlinewidth": 0,
              "ticks": ""
             }
            },
            "type": "scatterpolar"
           }
          ],
          "scatterpolargl": [
           {
            "marker": {
             "colorbar": {
              "outlinewidth": 0,
              "ticks": ""
             }
            },
            "type": "scatterpolargl"
           }
          ],
          "scatterternary": [
           {
            "marker": {
             "colorbar": {
              "outlinewidth": 0,
              "ticks": ""
             }
            },
            "type": "scatterternary"
           }
          ],
          "surface": [
           {
            "colorbar": {
             "outlinewidth": 0,
             "ticks": ""
            },
            "colorscale": [
             [
              0,
              "#0d0887"
             ],
             [
              0.1111111111111111,
              "#46039f"
             ],
             [
              0.2222222222222222,
              "#7201a8"
             ],
             [
              0.3333333333333333,
              "#9c179e"
             ],
             [
              0.4444444444444444,
              "#bd3786"
             ],
             [
              0.5555555555555556,
              "#d8576b"
             ],
             [
              0.6666666666666666,
              "#ed7953"
             ],
             [
              0.7777777777777778,
              "#fb9f3a"
             ],
             [
              0.8888888888888888,
              "#fdca26"
             ],
             [
              1,
              "#f0f921"
             ]
            ],
            "type": "surface"
           }
          ],
          "table": [
           {
            "cells": {
             "fill": {
              "color": "#EBF0F8"
             },
             "line": {
              "color": "white"
             }
            },
            "header": {
             "fill": {
              "color": "#C8D4E3"
             },
             "line": {
              "color": "white"
             }
            },
            "type": "table"
           }
          ]
         },
         "layout": {
          "annotationdefaults": {
           "arrowcolor": "#2a3f5f",
           "arrowhead": 0,
           "arrowwidth": 1
          },
          "autotypenumbers": "strict",
          "coloraxis": {
           "colorbar": {
            "outlinewidth": 0,
            "ticks": ""
           }
          },
          "colorscale": {
           "diverging": [
            [
             0,
             "#8e0152"
            ],
            [
             0.1,
             "#c51b7d"
            ],
            [
             0.2,
             "#de77ae"
            ],
            [
             0.3,
             "#f1b6da"
            ],
            [
             0.4,
             "#fde0ef"
            ],
            [
             0.5,
             "#f7f7f7"
            ],
            [
             0.6,
             "#e6f5d0"
            ],
            [
             0.7,
             "#b8e186"
            ],
            [
             0.8,
             "#7fbc41"
            ],
            [
             0.9,
             "#4d9221"
            ],
            [
             1,
             "#276419"
            ]
           ],
           "sequential": [
            [
             0,
             "#0d0887"
            ],
            [
             0.1111111111111111,
             "#46039f"
            ],
            [
             0.2222222222222222,
             "#7201a8"
            ],
            [
             0.3333333333333333,
             "#9c179e"
            ],
            [
             0.4444444444444444,
             "#bd3786"
            ],
            [
             0.5555555555555556,
             "#d8576b"
            ],
            [
             0.6666666666666666,
             "#ed7953"
            ],
            [
             0.7777777777777778,
             "#fb9f3a"
            ],
            [
             0.8888888888888888,
             "#fdca26"
            ],
            [
             1,
             "#f0f921"
            ]
           ],
           "sequentialminus": [
            [
             0,
             "#0d0887"
            ],
            [
             0.1111111111111111,
             "#46039f"
            ],
            [
             0.2222222222222222,
             "#7201a8"
            ],
            [
             0.3333333333333333,
             "#9c179e"
            ],
            [
             0.4444444444444444,
             "#bd3786"
            ],
            [
             0.5555555555555556,
             "#d8576b"
            ],
            [
             0.6666666666666666,
             "#ed7953"
            ],
            [
             0.7777777777777778,
             "#fb9f3a"
            ],
            [
             0.8888888888888888,
             "#fdca26"
            ],
            [
             1,
             "#f0f921"
            ]
           ]
          },
          "colorway": [
           "#636efa",
           "#EF553B",
           "#00cc96",
           "#ab63fa",
           "#FFA15A",
           "#19d3f3",
           "#FF6692",
           "#B6E880",
           "#FF97FF",
           "#FECB52"
          ],
          "font": {
           "color": "#2a3f5f"
          },
          "geo": {
           "bgcolor": "white",
           "lakecolor": "white",
           "landcolor": "#E5ECF6",
           "showlakes": true,
           "showland": true,
           "subunitcolor": "white"
          },
          "hoverlabel": {
           "align": "left"
          },
          "hovermode": "closest",
          "mapbox": {
           "style": "light"
          },
          "paper_bgcolor": "white",
          "plot_bgcolor": "#E5ECF6",
          "polar": {
           "angularaxis": {
            "gridcolor": "white",
            "linecolor": "white",
            "ticks": ""
           },
           "bgcolor": "#E5ECF6",
           "radialaxis": {
            "gridcolor": "white",
            "linecolor": "white",
            "ticks": ""
           }
          },
          "scene": {
           "xaxis": {
            "backgroundcolor": "#E5ECF6",
            "gridcolor": "white",
            "gridwidth": 2,
            "linecolor": "white",
            "showbackground": true,
            "ticks": "",
            "zerolinecolor": "white"
           },
           "yaxis": {
            "backgroundcolor": "#E5ECF6",
            "gridcolor": "white",
            "gridwidth": 2,
            "linecolor": "white",
            "showbackground": true,
            "ticks": "",
            "zerolinecolor": "white"
           },
           "zaxis": {
            "backgroundcolor": "#E5ECF6",
            "gridcolor": "white",
            "gridwidth": 2,
            "linecolor": "white",
            "showbackground": true,
            "ticks": "",
            "zerolinecolor": "white"
           }
          },
          "shapedefaults": {
           "line": {
            "color": "#2a3f5f"
           }
          },
          "ternary": {
           "aaxis": {
            "gridcolor": "white",
            "linecolor": "white",
            "ticks": ""
           },
           "baxis": {
            "gridcolor": "white",
            "linecolor": "white",
            "ticks": ""
           },
           "bgcolor": "#E5ECF6",
           "caxis": {
            "gridcolor": "white",
            "linecolor": "white",
            "ticks": ""
           }
          },
          "title": {
           "x": 0.05
          },
          "xaxis": {
           "automargin": true,
           "gridcolor": "white",
           "linecolor": "white",
           "ticks": "",
           "title": {
            "standoff": 15
           },
           "zerolinecolor": "white",
           "zerolinewidth": 2
          },
          "yaxis": {
           "automargin": true,
           "gridcolor": "white",
           "linecolor": "white",
           "ticks": "",
           "title": {
            "standoff": 15
           },
           "zerolinecolor": "white",
           "zerolinewidth": 2
          }
         }
        },
        "title": {
         "text": "Sentiment Analysis Scores (Marker Size ~ Positive Scores)"
        },
        "xaxis": {
         "title": {
          "text": "Texts"
         }
        },
        "yaxis": {
         "title": {
          "text": "Positive Scores"
         }
        }
       }
      }
     },
     "metadata": {},
     "output_type": "display_data"
    }
   ],
   "source": [
    "import plotly.graph_objects as go\n",
    "\n",
    "# Sample data: Replace these with your own sentiment analysis scores\n",
    "texts = [\"Text 1\", \"Text 2\", \"Text 3\", \"Text 4\"]\n",
    "positive_scores = [12, 20, 15, 18]\n",
    "negative_scores = [25, 15, 30, 10]\n",
    "neutral_scores = [60, 65, 55, 72]\n",
    "\n",
    "# Tooltips: Create hover text for each data point\n",
    "hover_texts = [\n",
    "    f\"Positive: {pos}<br>Negative: {neg}<br>Neutral: {neu}\"\n",
    "    for pos, neg, neu in zip(positive_scores, negative_scores, neutral_scores)\n",
    "]\n",
    "\n",
    "# Scale the marker sizes based on positive scores\n",
    "# Multiplying by a factor (e.g., 2) to make them more visible\n",
    "marker_sizes = [score * 2 for score in positive_scores]\n",
    "\n",
    "# Create the interactive scatter plot\n",
    "fig = go.Figure()\n",
    "\n",
    "fig.add_trace(\n",
    "    go.Scatter(\n",
    "        x=texts,  # Text labels on x-axis\n",
    "        y=positive_scores,  # Use positive scores as y-values\n",
    "        mode=\"markers+text\",  # Marker points with text\n",
    "        marker=dict(\n",
    "            size=marker_sizes,  # Marker size proportional to positive scores\n",
    "            color=\"green\",  # Marker color\n",
    "            opacity=0.7,  # Slight transparency for better visuals\n",
    "            line=dict(width=2, color=\"darkgreen\")  # Add border to markers\n",
    "        ),\n",
    "        text=[\"Positive\" for _ in texts],  # Marker label\n",
    "        hovertext=hover_texts,  # Display tooltips\n",
    "        hoverinfo=\"text\"  # Show hover text only\n",
    "    )\n",
    ")\n",
    "\n",
    "# Update layout to enhance visualization\n",
    "fig.update_layout(\n",
    "    title=\"Sentiment Analysis Scores (Marker Size ~ Positive Scores)\",\n",
    "    xaxis_title=\"Texts\",\n",
    "    yaxis_title=\"Positive Scores\",\n",
    "    hovermode=\"closest\",  # Closest point hover mode\n",
    "    template=\"plotly\"  # Styling template\n",
    ")\n",
    "\n",
    "# Show the plot\n",
    "fig.show()\n"
   ]
  },
  {
   "cell_type": "code",
   "execution_count": null,
   "metadata": {},
   "outputs": [],
   "source": []
  }
 ],
 "metadata": {
  "kernelspec": {
   "display_name": "base",
   "language": "python",
   "name": "python3"
  },
  "language_info": {
   "codemirror_mode": {
    "name": "ipython",
    "version": 3
   },
   "file_extension": ".py",
   "mimetype": "text/x-python",
   "name": "python",
   "nbconvert_exporter": "python",
   "pygments_lexer": "ipython3",
   "version": "3.11.5"
  }
 },
 "nbformat": 4,
 "nbformat_minor": 2
}
